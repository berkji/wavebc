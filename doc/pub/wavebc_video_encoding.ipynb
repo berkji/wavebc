{
 "metadata": {},
 "nbformat": 3,
 "nbformat_minor": 0,
 "worksheets": [
  {
   "cells": [
    {
     "cell_type": "markdown",
     "metadata": {},
     "source": [
      "<!-- 2DO: Use footnotes, links, citations -->\n",
      "<!-- Maybe a stripped version is fine for education of doconce/latex. -->\n",
      "<!-- Consider if-else of blocks to create the small version. -->\n",
      "\n",
      "# On the impact of boundary conditions in a wave equation\n",
      "**Aug 25, 2014**\n",
      "\n",
      "*Summary.* The purpose of this document is to demonstrate how\n",
      "different types of boundary conditions impacts the solution of\n",
      "standard, linear wave equation in one spatial dimension. Four types of\n",
      "conditions are treated: known value (Dirichlet condition), zero flux\n",
      "(Neumann condition), open boundary, and periodic boundary.\n",
      "\n",
      "<!-- Sphinx shows no table of contents (TOC) so two splits create an empty page -->\n",
      "<!-- !split -->\n",
      "\n",
      "\n",
      "\n",
      "\n",
      "\n",
      "\n",
      "<!-- !split -->\n",
      "\n",
      "\n",
      "## Mathematical model and solution method\n",
      "\n",
      "We solve a one-dimensional, linear, constant-coefficient\n",
      "wave equation by an explicit finite difference method.\n",
      "\n",
      "### The wave equation problem\n",
      "\n",
      "The standard, linear wave equation in a homogeneous one-dimensional\n",
      "medium reads"
     ]
    },
    {
     "cell_type": "markdown",
     "metadata": {},
     "source": [
      "$$\n",
      "\\begin{equation}\n",
      "\\frac{\\partial^2 u}{\\partial t^2} =\n",
      "c^2 \\frac{\\partial^2 u}{\\partial x^2}, \\quad x\\in (0,L),\\ t\\in (0,T]{\\thinspace .}\n",
      "\\label{math:pde:wave:eq}\n",
      "\\end{equation}\n",
      "$$"
     ]
    },
    {
     "cell_type": "markdown",
     "metadata": {},
     "source": [
      "The unknown function $u$ depends on space $x$ and time $t$: $u=u(x,t)$.\n",
      "\n",
      "**The need for boundary conditions in the wave equation.**\n",
      "\n",
      "Four initial and boundary conditions must be specified to have a\n",
      "unique solution:\n",
      "\n",
      " * Initial condition for $u(x,0)$\n",
      "\n",
      " * Initial condition for $u_t(x,0)$\n",
      "\n",
      " * Boundary condition at $x=0$\n",
      "\n",
      " * Boundary condition at $x=L$\n",
      "\n",
      "\n",
      "\n",
      "### Initial conditions\n",
      "\n",
      "Most demonstrations will start with an initial profile of $u$,"
     ]
    },
    {
     "cell_type": "markdown",
     "metadata": {},
     "source": [
      "$$\n",
      "u(x,0) = I(x),\n",
      "$$"
     ]
    },
    {
     "cell_type": "markdown",
     "metadata": {},
     "source": [
      "being at rest, i.e.,"
     ]
    },
    {
     "cell_type": "markdown",
     "metadata": {},
     "source": [
      "$$\n",
      "\\frac{\\partial}{\\partial t}u(x,0) = 0{\\thinspace .}\n",
      "$$"
     ]
    },
    {
     "cell_type": "markdown",
     "metadata": {},
     "source": [
      "Two initial profiles will be considered:\n",
      "\n",
      " * a plug as to left in Figure ref{fig:Gaussian}\n",
      "\n",
      " * a Gaussian peak as to the right in Figure ref{fig:Gaussian}"
     ]
    },
    {
     "cell_type": "code",
     "collapsed": false,
     "input": [
      "from IPython.display import Image\n",
      "Image(filename=\"fig-wavebc/plug_Gaussian.png\")\n"
     ],
     "language": "python",
     "metadata": {},
     "outputs": [],
     "prompt_number": 1
    },
    {
     "cell_type": "markdown",
     "metadata": {},
     "source": [
      "### Boundary conditions\n",
      "\n",
      "\n",
      "#### Fixed $u$\n",
      "\n",
      "At $x=0$ we will sometimes use the condition $u=0$, often known as\n",
      "a homogeneous *Dirichlet* condition. This condition will\n",
      "mirror the wave.\n",
      "\n",
      "\n",
      "#### Reflecting condition\n",
      "\n",
      "At $x=0$ and/or $x=L$ we will apply a *reflecting* or *no-flux* condition:"
     ]
    },
    {
     "cell_type": "markdown",
     "metadata": {},
     "source": [
      "$$\n",
      "\\begin{equation} \\frac{\\partial u}{\\partial x}=0{\\thinspace .}\n",
      "\\label{sec:math:bc:dudn0}\n",
      "\\end{equation}\n",
      "$$"
     ]
    },
    {
     "cell_type": "markdown",
     "metadata": {},
     "source": [
      "This condition reflects the wave into the domain again, as a surface wave\n",
      "hits a vertical wave, runs up to the double amplitude, and propagates\n",
      "back into the domain again. This type of boundary condition is also\n",
      "referred to as a *Neumann* condition.\n",
      "\n",
      "\n",
      "#### Feeding a wave from the boundary\n",
      "\n",
      "We shall demonstrate the effect of moving $u$ at the boundary $x=0$ to\n",
      "feed the domain with an incoming wave. The boundary condition then reads"
     ]
    },
    {
     "cell_type": "markdown",
     "metadata": {},
     "source": [
      "$$\n",
      "u(0,t) = U_0(t),\n",
      "$$"
     ]
    },
    {
     "cell_type": "markdown",
     "metadata": {},
     "source": [
      "for some given function $U_0(t)$. A particular choice in a later\n",
      "demonstration is a sine function that is active in three different\n",
      "time intervals:"
     ]
    },
    {
     "cell_type": "markdown",
     "metadata": {},
     "source": [
      "$$\n",
      "U_0 (t) = \\left\\lbrace\\begin{array}{ll}\n",
      "\\frac{1}{4}\\sin(6\\pi t),& t\\in T_1\\hbox{ or } t\\in T_2\\hbox{ or } t\\in T_3\\\\\n",
      "0,& \\hbox{otherwise}\n",
      "\\end{array}\\right.\n",
      "$$"
     ]
    },
    {
     "cell_type": "markdown",
     "metadata": {},
     "source": [
      "where $T_1=[0, \\frac{1}{6}]$, $T_2=[\\frac{3}{4}, \\frac{5}{6}]$,\n",
      "and $T_3=[\\frac{3}{2},\\frac{11}{6}]$. The movement of $u$ at the\n",
      "boundary will produce a wave that is by the PDE transported to\n",
      "the right into the domain.\n",
      "\n",
      "\n",
      "#### Open boundary condition\n",
      "\n",
      "Very often one wants to let a wave travel through the boundary without\n",
      "being disturbed. Such a condition is called an *open* boundary condition,\n",
      "or a *radiation* condition, or an *artificial* boundary condition:"
     ]
    },
    {
     "cell_type": "markdown",
     "metadata": {},
     "source": [
      "$$\n",
      "\\begin{equation}\n",
      "\\frac{\\partial u}{\\partial t} - c\\frac{\\partial u}{\\partial x} = 0,\\quad x=0,\n",
      "\\label{sec:math:bc:open:x0}\n",
      "\\end{equation}\n",
      "$$"
     ]
    },
    {
     "cell_type": "markdown",
     "metadata": {},
     "source": [
      "$$\n",
      "\\begin{equation} \n",
      "\\frac{\\partial u}{\\partial t} + c\\frac{\\partial u}{\\partial x} = 0,\\quad x=L{\\thinspace .}\n",
      "\\label{sec:math:bc:open:xL}\n",
      "\\end{equation}\n",
      "$$"
     ]
    },
    {
     "cell_type": "markdown",
     "metadata": {},
     "source": [
      "These conditions work exactly in 1D, but are challenging to generalize\n",
      "and implement in 2D and 3D.\n",
      "\n",
      "#### Periodic boundary condition\n",
      "\n",
      "When following a wave motion over large distances, it is desireable to\n",
      "let a wave travel out of the right domain\n",
      "and at the same time feed the wave back into the domain from the left.\n",
      "This approach avoids a very large domain where nothing happens in\n",
      "the majority of the domain. A *periodic* boundary condition at $x=0$\n",
      "can be used to feed the signal traveling out at $x=L$ into the domain:"
     ]
    },
    {
     "cell_type": "markdown",
     "metadata": {},
     "source": [
      "$$\n",
      "\\begin{equation}\n",
      "u(0,t) = u(L,t){\\thinspace .}\n",
      "\\label{sec:math:bc:periodic}\n",
      "\\end{equation}\n",
      "$$"
     ]
    },
    {
     "cell_type": "markdown",
     "metadata": {},
     "source": [
      "The condition at $x=L$ is then an open boundary condition\n",
      "Eq (sec:math:bc:open:xL).\n",
      "\n",
      "### Numerical solution method\n",
      "\n",
      "The wave equation is solved by an explicit finite difference method,\n",
      "which is of second-order in space and time. A uniform mesh with\n",
      "spacing $\\Delta x$ and $\\Delta t$ is used in space and time,\n",
      "respectively. The no-flux or Neumann boundary conditions are implemented\n",
      "by modifying the computational stencil at the boundary. The\n",
      "open boundary conditions are implemented by forward in time,\n",
      "upstream in space finite differences, which exactly let the wave out\n",
      "of the boundary. More details are found in Appendix [Appendix: Numerical solution method](#d).\n",
      "Parts of the computer code are explained in\n",
      "Appendix [Appendix: Computer code](#e).\n",
      "\n",
      "<!-- !split -->\n",
      "## Demonstrations\n",
      "\n",
      "### Dirichlet and Neumann conditions: reflecting and mirroring boundaries\n",
      "\n",
      "The first two animations demonstrates the differences between a\n",
      "Dirichlet condition $u=0$ at the boundary and a Neumann condition\n",
      "$\\partial u/\\partial x=0$."
     ]
    },
    {
     "cell_type": "code",
     "collapsed": false,
     "input": [
      "\n",
      "video = open(\"mov-wavebc/gaussian_Nx50_C1_un0/movie.mp4\", \"rb\").read()\n",
      "from base64 import b64encode\n",
      "video_encoded = b64encode(video)\n",
      "video_tag = '<video controls loop alt=\"mov-wavebc/gaussian_Nx50_C1_un0/movie.mp4\" height=\"365\" width=\"640\" src=\"data:video/mp4;base64,{0}\">'.format(video_encoded)\n",
      "from IPython.display import HTML\n",
      "HTML(data=video_tag)\n"
     ],
     "language": "python",
     "metadata": {},
     "outputs": [],
     "prompt_number": 1
    },
    {
     "cell_type": "markdown",
     "metadata": {},
     "source": [
      "Movie above: *Reflecting boundaries ($u_x=0$) for a Gaussian wave.*"
     ]
    },
    {
     "cell_type": "code",
     "collapsed": false,
     "input": [
      "\n",
      "video = open(\"mov-wavebc/gaussian_Nx50_C1_u0/movie.mp4\", \"rb\").read()\n",
      "from base64 import b64encode\n",
      "video_encoded = b64encode(video)\n",
      "video_tag = '<video controls loop alt=\"mov-wavebc/gaussian_Nx50_C1_u0/movie.mp4\" height=\"365\" width=\"640\" src=\"data:video/mp4;base64,{0}\">'.format(video_encoded)\n",
      "HTML(data=video_tag)\n"
     ],
     "language": "python",
     "metadata": {},
     "outputs": [],
     "prompt_number": 1
    },
    {
     "cell_type": "markdown",
     "metadata": {},
     "source": [
      "Movie above: *Mirroring boundaries ($u=0$) for a Gaussian wave.*\n",
      "\n",
      "\n",
      "Instead of a Gaussian wave profile, we can test the geometrically simple\n",
      "plug profile."
     ]
    },
    {
     "cell_type": "code",
     "collapsed": false,
     "input": [
      "\n",
      "video = open(\"mov-wavebc/plug_Nx100_C1/movie.mp4\", \"rb\").read()\n",
      "from base64 import b64encode\n",
      "video_encoded = b64encode(video)\n",
      "video_tag = '<video controls loop alt=\"mov-wavebc/plug_Nx100_C1/movie.mp4\" height=\"365\" width=\"640\" src=\"data:video/mp4;base64,{0}\">'.format(video_encoded)\n",
      "HTML(data=video_tag)\n"
     ],
     "language": "python",
     "metadata": {},
     "outputs": [],
     "prompt_number": 1
    },
    {
     "cell_type": "markdown",
     "metadata": {},
     "source": [
      "#### Numerical noise\n",
      "\n",
      "All of the above computations were run with unit Courant number, which\n",
      "means that the solutions are exact without any numerical errors. (This\n",
      "is a remarkable property of the numerical solution method.)\n",
      "For smaller Courant numbers, numerical noise may be visible, depending\n",
      "on the smoothness of the initial profile.\n",
      "Below is a smooth Gaussian profile and the almost discontinuous plug profile.\n",
      "\n",
      "<!-- MOVIE: [mov-wavebc/gaussian_Nx50_C0.5_un0/frame*.png] Reflecting boundaries ($u_x=0$) for a Gaussian wave, computed with $C=0.5$, which implies numerical noise on a coarse grid. -->\n",
      "\n",
      "<!-- MOVIE: [mov-wavebc/plug_Nx100_C0.5/frame*.png] A plug wave generates very significant numerical noise ($C=0.5$). -->\n",
      "\n",
      "### Effect of impulsive start of waves\n",
      "\n",
      "The previous demonstrations had an initial condition with a prescribed\n",
      "$u=0$ profile at rest ($u_t=0$). Alternatively, one may start with\n",
      "a flat profile $u=0$ and use an initial condition $u_t=V\\neq 0$ to\n",
      "impulsively start the wave motion. For example, if we think of $u$\n",
      "as the displacement of a string on a string instrument, this set of\n",
      "initial conditions corresponds to an undeformed string that is given\n",
      "an impulsive start from an impact."
     ]
    },
    {
     "cell_type": "code",
     "collapsed": false,
     "input": [
      "\n",
      "video = open(\"mov-wavebc/gaussian_Nx50_C1_V/movie.mp4\", \"rb\").read()\n",
      "from base64 import b64encode\n",
      "video_encoded = b64encode(video)\n",
      "video_tag = '<video controls loop alt=\"mov-wavebc/gaussian_Nx50_C1_V/movie.mp4\" height=\"365\" width=\"640\" src=\"data:video/mp4;base64,{0}\">'.format(video_encoded)\n",
      "HTML(data=video_tag)\n"
     ],
     "language": "python",
     "metadata": {},
     "outputs": [],
     "prompt_number": 1
    },
    {
     "cell_type": "markdown",
     "metadata": {},
     "source": [
      "Movie above: *Impulsive start of a wave motion: $I=0$, $V\\neq 0$.*\n",
      "\n",
      "\n",
      "### Feeding of waves from the boundary\n",
      "\n",
      "We can also start with a flat profile, $u=0$, at rest, $u_t=0$, and\n",
      "create propagating signals by moving $u$ at the boundary. That is,\n",
      "we have a time-varying Dirichlet condition $u(0,t)=U_0(t)$ at the\n",
      "left boundary. The movements lead to signals that propagate to the\n",
      "right. In the movie, the movements are paused to make separate\n",
      "signals.\n",
      "\n",
      "<!-- MOVIE: [mov-wavebc/moving_end_Nx100_C1/movie.mp4] Feeding of waves from the boundary by a time-dependent Dirichlet condition $U_0(t)$. -->"
     ]
    },
    {
     "cell_type": "code",
     "collapsed": false,
     "input": [
      "from IPython.display import YouTubeVideo\n",
      "YouTubeVideo(\"-oe8q83anXE\")\n"
     ],
     "language": "python",
     "metadata": {},
     "outputs": [],
     "prompt_number": 1
    },
    {
     "cell_type": "markdown",
     "metadata": {},
     "source": [
      "Movie above: *Feeding of waves from the boundary by a time-dependent Dirichlet condition $U_0(t)$.*\n",
      "\n",
      "\n",
      "### Open and periodic boundary conditions"
     ]
    },
    {
     "cell_type": "code",
     "collapsed": false,
     "input": [
      "\n",
      "video = open(\"mov-wavebc/periodic_Nx100_C1_l0/movie.mp4\", \"rb\").read()\n",
      "from base64 import b64encode\n",
      "video_encoded = b64encode(video)\n",
      "video_tag = '<video controls loop alt=\"mov-wavebc/periodic_Nx100_C1_l0/movie.mp4\" height=\"365\" width=\"640\" src=\"data:video/mp4;base64,{0}\">'.format(video_encoded)\n",
      "HTML(data=video_tag)\n"
     ],
     "language": "python",
     "metadata": {},
     "outputs": [],
     "prompt_number": 1
    },
    {
     "cell_type": "markdown",
     "metadata": {},
     "source": [
      "Movie above: *Demonstrations of periodic boundary condition on the left combined with an open boundary condition on the right: waves passing out of the domain enter the left end again.*"
     ]
    },
    {
     "cell_type": "code",
     "collapsed": false,
     "input": [
      "\n",
      "video = open(\"mov-wavebc/periodic_Nx100_C1_l0.3/movie.mp4\", \"rb\").read()\n",
      "from base64 import b64encode\n",
      "video_encoded = b64encode(video)\n",
      "video_tag = '<video controls loop alt=\"mov-wavebc/periodic_Nx100_C1_l0.3/movie.mp4\" height=\"365\" width=\"640\" src=\"data:video/mp4;base64,{0}\">'.format(video_encoded)\n",
      "HTML(data=video_tag)\n"
     ],
     "language": "python",
     "metadata": {},
     "outputs": [],
     "prompt_number": 1
    },
    {
     "cell_type": "markdown",
     "metadata": {},
     "source": [
      "Movie above: *Demonstrations of periodic boundary condition on the left combined with an open boundary condition on the right: waves passing out of the domain enter the left end again.*\n",
      "\n",
      "\n",
      "#### Error in the open boundary condition\n",
      "\n",
      "In 2D and 3D..."
     ]
    },
    {
     "cell_type": "code",
     "collapsed": false,
     "input": [
      "\n",
      "video = open(\"mov-wavebc/periodic_error_Nx100_C1_l0.3/movie.mp4\", \"rb\").read()\n",
      "from base64 import b64encode\n",
      "video_encoded = b64encode(video)\n",
      "video_tag = '<video controls loop alt=\"mov-wavebc/periodic_error_Nx100_C1_l0.3/movie.mp4\" height=\"365\" width=\"640\" src=\"data:video/mp4;base64,{0}\">'.format(video_encoded)\n",
      "HTML(data=video_tag)\n"
     ],
     "language": "python",
     "metadata": {},
     "outputs": [],
     "prompt_number": 1
    },
    {
     "cell_type": "markdown",
     "metadata": {},
     "source": [
      "Movie above: *Periodic boundary condition combined with a slight wrong open boundary condition at the right end (20% wrong wave velocity leads to small reflections back into the domain).*\n",
      "\n",
      "\n",
      "\n",
      "**Summary of boundary conditions.**\n",
      "\n",
      "\n",
      "\n",
      "          Condition                        Formula                          Effect              \n",
      "------------------------------  ------------------------------  ------------------------------  \n",
      "Dirichlet                       $u(0,t)=0$                      mirror wave                     \n",
      "Dirichlet                       $u(0,t)=U_0(t)$                 feed incoming wave              \n",
      "Neumann                         $u_x(0,t)=0$                    reflect wave                    \n",
      "Open                            $u_t \\pm cu_x=0$                let wave out of the domain      \n",
      "Periodic                        $u(0,t)=u(L,t)$                 turn outgoing wave to incoming\n",
      "\n",
      "\n",
      "\n",
      "> *Science is a differential equation. Religion is a boundary condition.*\n",
      "> Alan Turing, computer scientist, 1912-1954.\n",
      "\n",
      "\n",
      "\n",
      "\n",
      "\n",
      "<!-- !split -->\n",
      "## Appendix: Numerical solution method\n",
      "\n",
      "### Approximating the wave equation\n",
      "\n",
      "We introduce a uniform mesh in space and time with spacings\n",
      "$\\Delta x$ and $\\Delta t$, respectively. At each mesh\n",
      "point"
     ]
    },
    {
     "cell_type": "markdown",
     "metadata": {},
     "source": [
      "$$\n",
      "(x_i,t_n),\\quad x_i=i\\Delta x,\\ i=0,\\ldots,N_x,\\quad t_n=n\\Delta t,\n",
      "\\ n=0,\\ldots,N_t,\n",
      "$$"
     ]
    },
    {
     "cell_type": "markdown",
     "metadata": {},
     "source": [
      "the wave equation is approximated by second-order finite differences,"
     ]
    },
    {
     "cell_type": "markdown",
     "metadata": {},
     "source": [
      "$$\n",
      "\\frac{\\partial^2}{\\partial t^2}u(x_i,t_n) \\approx\n",
      "\\frac{u_i^{n+1} - 2u_i^n + u^{n-1}_i}{\\Delta t^2},\n",
      "$$"
     ]
    },
    {
     "cell_type": "markdown",
     "metadata": {},
     "source": [
      "$$\n",
      "\\frac{\\partial^2}{\\partial x^2}u(x_i,t_n) \\approx\n",
      "\\frac{u_{i+1}^{n} - 2u_i^n + u^{n}_{i-1}}{\\Delta x^2},\n",
      "$$"
     ]
    },
    {
     "cell_type": "markdown",
     "metadata": {},
     "source": [
      "where $u^n_i$ is the numerical approximation to the exact solution\n",
      "at $(x_i,t_n)$.\n",
      "These approximations give rise to an explicit scheme where a new\n",
      "value $u^{n+1}_i$ is given by the formula"
     ]
    },
    {
     "cell_type": "markdown",
     "metadata": {},
     "source": [
      "$$\n",
      "\\begin{equation}\n",
      "u^{n+1}_i = -u^{n-1}_i + 2u^n_i + C^2\n",
      "\\left(u^{n}_{i+1}-2u^{n}_{i} + u^{n}_{i-1}\\right),\n",
      "\\label{sec:app:numerical:scheme}\n",
      "\\end{equation}\n",
      "$$"
     ]
    },
    {
     "cell_type": "markdown",
     "metadata": {},
     "source": [
      "where the parameter $C$,"
     ]
    },
    {
     "cell_type": "markdown",
     "metadata": {},
     "source": [
      "$$\n",
      "\\begin{equation}\n",
      "C = c\\frac{\\Delta t}{\\Delta x},\n",
      "\\end{equation}\n",
      "$$"
     ]
    },
    {
     "cell_type": "markdown",
     "metadata": {},
     "source": [
      "is known as the dimensionless *Courant number*. A stable time-stepping\n",
      "is ensured only if $C\\leq 1$. The value $C$ governs also the accuracy\n",
      "of the method: $C=1$ actually reproduces the exact solution (!), while\n",
      "the accuracy is reduced when decreasing $C$.\n",
      "\n",
      "### Approximating the initial conditions\n",
      "\n",
      "The initial condition $u(x,0)=I(x)$, where $I(x)$ is a prescribed\n",
      "mathematical function, is implemented in the numerical method by"
     ]
    },
    {
     "cell_type": "markdown",
     "metadata": {},
     "source": [
      "$$\n",
      "u(x_i,0) = I(x_i),\\quad i=0,\\ldots,N_x{\\thinspace .}\n",
      "$$"
     ]
    },
    {
     "cell_type": "markdown",
     "metadata": {},
     "source": [
      "The other initial condition,"
     ]
    },
    {
     "cell_type": "markdown",
     "metadata": {},
     "source": [
      "$$\n",
      "\\frac{\\partial}{\\partial t}(x,0) = 0,\\hbox{ or }\n",
      "\\frac{\\partial}{\\partial t}(x,0) = V(x),\n",
      "$$"
     ]
    },
    {
     "cell_type": "markdown",
     "metadata": {},
     "source": [
      "is approximated by a centered difference over an interval $2\\Delta t$.\n",
      "When this difference is combined with Eq (sec:app:numerical:scheme),\n",
      "we get a special formula for $u^1_i$. Thereafter, for $n\\geq 1$,\n",
      "one can apply Eq (sec:app:numerical:scheme).\n",
      "\n",
      "### Approximation of boundary conditions\n",
      "\n",
      "The finite difference scheme Eq (sec:app:numerical:scheme) is\n",
      "applied at all *inner points* in the spatial mesh, $i=1,\\ldots,N_x-1$.\n",
      "For $i=1$ or $i=N_x-1$, Eq (sec:app:numerical:scheme) involves\n",
      "the boundary points $u^n_0$ or $u^n_{N_x}$ (respectively) at the\n",
      "previous time step, but these are condidered known.\n",
      "\n",
      "#### Dirichlet conditions\n",
      "\n",
      "In case of $u=0$ (Dirichlet) conditions, we just set $u^{n+1}_0=0$\n",
      "and $u^{n+1}_{N_x}=0$. Feeding a wave in from the left is just\n",
      "a matter of setting $u^{n+1}_0$ equal to the known boundary function of\n",
      "time: $u^{n+1}_0=U_0((n+1)\\Delta t)$.\n",
      "\n",
      "#### Neumann conditions\n",
      "\n",
      "No-flux or Neumann conditions are\n",
      "discretized by a centered finite difference and combined with\n",
      "Eq (sec:app:numerical:scheme), yielding a modified form of\n",
      "Eq (sec:app:numerical:scheme) at the boundary:"
     ]
    },
    {
     "cell_type": "markdown",
     "metadata": {},
     "source": [
      "$$\n",
      "\\begin{equation}\n",
      "u^{n+1}_i = -u^{n-1}_i  + 2u^n_i + 2C^2\n",
      "\\left(u^{n}_{i+1}-u^{n}_{i}\\right),\\quad i=0\n",
      "\\end{equation}\n",
      "$$"
     ]
    },
    {
     "cell_type": "markdown",
     "metadata": {},
     "source": [
      "$$\n",
      "\\begin{equation} \n",
      "u^{n+1}_i = -u^{n-1}_i + 2u^n_i + 2C^2\n",
      "\\left(u^{n}_{i-1}-u^{n}_{i}\\right),\\quad i=N_x{\\thinspace .}\n",
      "\\end{equation}\n",
      "$$"
     ]
    },
    {
     "cell_type": "markdown",
     "metadata": {},
     "source": [
      "#### Open boundary conditions\n",
      "\n",
      "Radiation, artificial, or open boundary conditions of the type\n",
      "Eq (sec:math:bc:open:x0)-Eq (sec:math:bc:open:xL) are\n",
      "discretized by upstream first-order, forward in time differences,\n",
      "resulting in explicit updating formulas:"
     ]
    },
    {
     "cell_type": "markdown",
     "metadata": {},
     "source": [
      "$$\n",
      "\\begin{equation}\n",
      "u^{n+1}_i = u^n_i + C(u^n_{i+1} - u^n_i),\\quad i=0,\n",
      "\\end{equation}\n",
      "$$"
     ]
    },
    {
     "cell_type": "markdown",
     "metadata": {},
     "source": [
      "$$\n",
      "\\begin{equation} \n",
      "u^{n+1}_i = u^n_i - C(u^n_{i} - u^n_{i-1}),\\quad i=N_x{\\thinspace .}\n",
      "\\end{equation}\n",
      "$$"
     ]
    },
    {
     "cell_type": "markdown",
     "metadata": {},
     "source": [
      "Even though the underlying finite differences are of first order only,\n",
      "these conditions let the waves out of the domain perfectly and do not\n",
      "lower the accuracy of the finite difference scheme used in the interior\n",
      "of the domain or at no-flux (Neumann) boundaries.\n",
      "\n",
      "#### Periodic conditions\n",
      "\n",
      "The periodic condition $u(0,t)=u(L,t)$ is trivial to incorporate in\n",
      "the numerical method:"
     ]
    },
    {
     "cell_type": "markdown",
     "metadata": {},
     "source": [
      "$$\n",
      "u^{n+1}_0 = u^{n+1}_{N_x}{\\thinspace .}\n",
      "$$"
     ]
    },
    {
     "cell_type": "markdown",
     "metadata": {},
     "source": [
      "<!-- !split -->\n",
      "## Appendix: Computer code\n",
      "\n",
      "The complete code used for all experiments except those involving\n",
      "periodic boundary conditions can be found in\n",
      "the file [`wave1D_dn.py`](http://tinyurl.com/jvzzcfn/wave/wave1D/wave1D_dn.py). The basic solver function for problems without open boundary\n",
      "conditions and periodic conditions is listed below.\n",
      "\n",
      "The key computation is the time stepping loop where\n",
      "Eq (sec:app:numerical:scheme) is used to find new $u^{n+1}_i$\n",
      "values at each time level. In addition, a special formula for\n",
      "the first step is needed, and boundary conditions must be\n",
      "incorporated at the boundary points."
     ]
    },
    {
     "cell_type": "code",
     "collapsed": false,
     "input": [
      "from numpy import linspace, zeros\n",
      "\n",
      "def solver(I, V, f, c, U_0, U_L, L, dt, C, T,\n",
      "           user_action=None, version='scalar'):\n",
      "    \"\"\"\n",
      "    Solve u_tt = c**2*u_xx for x in [0,L] and t in [0,T],\n",
      "    with u(x,0)=I(x), u_t(x,t)=V(x), u(0,t)=U_0(t), u(L,t)=U_L(t),\n",
      "    and time step size dt and Courant number C.\n",
      "    A Neumann condition is applied by setting U_0 or  U_L to None.\n",
      "    user_action(u, x, t, n) is called at every time step with\n",
      "    time t[n], the solution in array u, and corresponding to x\n",
      "    coordinates in array x.\n",
      "    \"\"\"\n",
      "    Nt = int(round(T/dt))          # No of time intervals\n",
      "    t = linspace(0, Nt*dt, Nt+1)   # Mesh points in time\n",
      "    dx = dt*c/float(C)             # Mesh spacing\n",
      "    Nx = int(round(L/dx))          # No of space intervals\n",
      "    x = linspace(0, L, Nx+1)       # Mesh points in space\n",
      "\n",
      "    C2 = C**2; dt2 = dt*dt         # Help variables in the scheme\n",
      "\n",
      "    u   = zeros(Nx+1)    # Solution array at new time level\n",
      "    u_1 = zeros(Nx+1)    # Solution at 1 time level back\n",
      "    u_2 = zeros(Nx+1)    # Solution at 2 time levels back\n",
      "\n",
      "    Ix = range(0, Nx+1)  # Indices for x mesh\n",
      "    It = range(0, Nt+1)  # Indices for t mesh\n",
      "\n",
      "    # Load initial condition into u_1\n",
      "    for i in Ix:\n",
      "        u_1[i] = I(x[i])\n",
      "\n",
      "    if user_action is not None:\n",
      "        user_action(u_1, x, t, 0)\n",
      "\n",
      "    # Special formula for the first step\n",
      "    for i in Ix[1:-1]:\n",
      "        u[i] = u_1[i] + dt*V(x[i]) + \\ \n",
      "               0.5*C2*(u_1[i-1] - 2*u_1[i] + u_1[i+1]) + \\ \n",
      "               0.5*dt2*f(x[i], t[0])\n",
      "\n",
      "    i = Ix[0]\n",
      "    if U_0 is None:\n",
      "        # Set boundary values du/dn = 0\n",
      "        # x=0: i-1 -> i+1 since u[i-1]=u[i+1]\n",
      "        # x=L: i+1 -> i-1 since u[i+1]=u[i-1])\n",
      "        ip1 = i+1\n",
      "        im1 = ip1  # i-1 -> i+1\n",
      "        u[i] = u_1[i] + dt*V(x[i]) + \\ \n",
      "               0.5*C2*(u_1[im1] - 2*u_1[i] + u_1[ip1]) + \\ \n",
      "               0.5*dt2*f(x[i], t[0])\n",
      "    else:\n",
      "        u[0] = U_0(dt)\n",
      "\n",
      "    i = Ix[-1]\n",
      "    if U_L is None:\n",
      "        im1 = i-1\n",
      "        ip1 = im1  # i+1 -> i-1\n",
      "        u[i] = u_1[i] + dt*V(x[i]) + \\ \n",
      "               0.5*C2*(u_1[im1] - 2*u_1[i] + u_1[ip1]) + \\ \n",
      "               0.5*dt2*f(x[i], t[0])\n",
      "    else:\n",
      "        u[i] = U_L(dt)\n",
      "\n",
      "    if user_action is not None:\n",
      "        user_action(u, x, t, 1)\n",
      "\n",
      "    # Update data structures for next step\n",
      "    u_2[:], u_1[:] = u_1, u\n",
      "\n",
      "    for n in It[1:-1]:\n",
      "        # Update all inner points\n",
      "        if version == 'scalar':\n",
      "            for i in Ix[1:-1]:\n",
      "                u[i] = - u_2[i] + 2*u_1[i] + \\ \n",
      "                       C2*(u_1[i-1] - 2*u_1[i] + u_1[i+1]) + \\ \n",
      "                       dt2*f(x[i], t[n])\n",
      "\n",
      "        elif version == 'vectorized':\n",
      "            u[1:-1] = - u_2[1:-1] + 2*u_1[1:-1] + \\ \n",
      "                      C2*(u_1[0:-2] - 2*u_1[1:-1] + u_1[2:]) + \\ \n",
      "                      dt2*f(x[1:-1], t[n])\n",
      "        else:\n",
      "            raise ValueError('version=%s' % version)\n",
      "\n",
      "        # Insert boundary conditions\n",
      "        i = Ix[0]\n",
      "        if U_0 is None:\n",
      "            # Set du/dx = 0\n",
      "            # x=0: i-1 -> i+1 since u[i-1]=u[i+1] when du/dn=0\n",
      "            # x=L: i+1 -> i-1 since u[i+1]=u[i-1] when du/dn=0\n",
      "            ip1 = i+1\n",
      "            im1 = ip1\n",
      "            u[i] = - u_2[i] + 2*u_1[i] + \\ \n",
      "                   C2*(u_1[im1] - 2*u_1[i] + u_1[ip1]) + \\ \n",
      "                   dt2*f(x[i], t[n])\n",
      "        else:\n",
      "            u[0] = U_0(t[n+1])\n",
      "\n",
      "        i = Ix[-1]\n",
      "        if U_L is None:\n",
      "            im1 = i-1\n",
      "            ip1 = im1\n",
      "            u[i] = - u_2[i] + 2*u_1[i] + \\ \n",
      "                   C2*(u_1[im1] - 2*u_1[i] + u_1[ip1]) + \\ \n",
      "                   dt2*f(x[i], t[n])\n",
      "        else:\n",
      "            u[i] = U_L(t[n+1])\n",
      "\n",
      "        if user_action is not None:\n",
      "            if user_action(u, x, t, n+1):\n",
      "                break\n",
      "\n",
      "        # Update data structures for next step\n",
      "        u_2[:], u_1[:] = u_1, u\n",
      "\n",
      "    return u, x, t\n"
     ],
     "language": "python",
     "metadata": {},
     "outputs": [],
     "prompt_number": 1
    },
    {
     "cell_type": "markdown",
     "metadata": {},
     "source": [
      "Open boundary conditions can be handled as follows."
     ]
    },
    {
     "cell_type": "code",
     "collapsed": false,
     "input": [
      "def solver(...):\n",
      "    ...\n",
      "    for n in range(1, Nt):\n",
      "        # Update all inner points at time t[n+1]\n",
      "\n",
      "        # Insert open boundary conditions at the end points\n",
      "        i = Nx\n",
      "        u[i] = u_1[i] - C*(u_1[i] - u_1[i-1])\n",
      "        i = 0\n",
      "        u[i] = u_1[i] + C*(u_1[i+1] - u_1[i])\n"
     ],
     "language": "python",
     "metadata": {},
     "outputs": [],
     "prompt_number": 1
    },
    {
     "cell_type": "markdown",
     "metadata": {},
     "source": [
      "A period condition at $x=L$, after an open conditon in the beginning\n",
      "of the simulation, can be coded as"
     ]
    },
    {
     "cell_type": "code",
     "collapsed": false,
     "input": [
      "if periodic:\n",
      "    u[0] = u[Nx]\n",
      "else:\n",
      "    i = 0\n",
      "    u[i] = u_1[i] + C*(u_1[i+1] - u_1[i])\n"
     ],
     "language": "python",
     "metadata": {},
     "outputs": [],
     "prompt_number": 1
    },
    {
     "cell_type": "markdown",
     "metadata": {},
     "source": [
      "where `peridoc` becomes `True` when `u[-1] > eps` for some\n",
      "tolerance `eps`, say `1E-4` (i.e., the outgoing wave hits the right\n",
      "boundary)."
     ]
    }
   ],
   "metadata": {}
  }
 ]
}
